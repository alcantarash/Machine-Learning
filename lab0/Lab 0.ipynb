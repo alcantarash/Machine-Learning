{
 "cells": [
  {
   "cell_type": "markdown",
   "metadata": {},
   "source": [
    "# Laboratory class 0"
   ]
  },
  {
   "cell_type": "markdown",
   "metadata": {},
   "source": [
    "Nome:\n",
    "\n",
    "1 - Sheldon Goulart de Alcântara"
   ]
  },
  {
   "cell_type": "markdown",
   "metadata": {},
   "source": [
    "# Getting started with Python, IPython Notebook, Anaconda, and Scikit-learn"
   ]
  },
  {
   "cell_type": "markdown",
   "metadata": {},
   "source": [
    "Welcome to the Machine Learning course. In this course we will introduce the basic concepts of machine learning. The goal of this course is for your effort to be spent on learning the fundamental concepts and algorithms behind machine learning in a hands-on fashion. These concepts transcend any single package. What you learn here you can use whether you write code from scratch, use any existing ML packages out there, or any that may be developed in the future."
   ]
  },
  {
   "cell_type": "markdown",
   "metadata": {},
   "source": [
    "The learning approach in this course is to start from use cases and then dig into algorithms and methods, what we call a case-studies approach. The lab classes are focused on understanding how ML can be used in various cases studies, and the pratical assignments will dig into the details of algorithms and methods for each of the main ML areas. In the lab classes, you will not be implementing algorithms from scratch, but rather building intelligent applications that use ML. In the practical assignments, we will be implementing and comparing a wide range of algorithms. To make it easy to implement the use cases we will be covering, we are recommending a particular set of software tools, but you can successfully complete the course with other tools out there."
   ]
  },
  {
   "cell_type": "markdown",
   "metadata": {},
   "source": [
    "## Why Python"
   ]
  },
  {
   "cell_type": "markdown",
   "metadata": {},
   "source": [
    "In this course, we are going to use the Python programming language to build several intelligent applications that use machine learning. Python is a simple scripting language that makes it easy to interact with data. Futhermore, Python has a wide range of packages that make it easy to get started and build applications, from the simplest ones to the most complex. Python is widely used in industry, and is becoming the de facto language for data science in industry.\n",
    "\n",
    "We will also use the IPython Notebook in our videos. The IPython Notebook is a simple interactive environment for programming with Python, which makes it really easy to share your results. Think about it as a combination of a Python terminal and a wiki page. Thus, you can combine code, plots and text to explain what you did.\n",
    "\n",
    "A prerequisite of attending this course is that you have learnt at least one programming language in the past. It is not our objective to teach you python. At this class we expect our students to be able pick up a language as they go. If you have not experienced python before it may be worth your while spending some time undertanding the language. There are resources available for you to do this here (https://docs.python.org/2/tutorial/) that are based on the standard console. An introduction to the Jupyter Notebook (formely known as the IPython Notebook) is available here (http://ipython.org/ipython-doc/2/notebook/index.html)."
   ]
  },
  {
   "cell_type": "markdown",
   "metadata": {},
   "source": [
    "## Lab classes vs Programming assignments/Research Project"
   ]
  },
  {
   "cell_type": "markdown",
   "metadata": {},
   "source": [
    "In lab classes, the focus is on exploring each case study, without having to implement your own algorithms from scratch, and benefiting from the performance advantages that Scikit-learn provides. In programming assingments, you will be implementing many of these algorithms from scratch, having had the foundation of seeing them perform in practice on real applications.\n",
    "\n",
    "In other words, in lab classes, we focus on exploring the use cases we´ll tackle throughout the course. A huge goal is to familiarize ourselves with the core ML concepts that we will use during programming assignments and research project. In those, there will be much more implementation of ML algorithms, so the specific ML package becomes less important. However, in lab classes, we want to move quickly through all the use cases, and Scikit-learn will help us do just that."
   ]
  },
  {
   "cell_type": "markdown",
   "metadata": {},
   "source": [
    "## Learning outcomes"
   ]
  },
  {
   "cell_type": "markdown",
   "metadata": {},
   "source": [
    "This reading will walk you through the steps you will need to follow to install and get started with Python, IPython Notebook, Anaconda, and Scikit-learn.\n",
    "\n",
    "Installing Python, IPython Notebook, and Pandas\n",
    "\n",
    "Starting IPython Notebook\n",
    "\n",
    "Writing variables, functions and loops in Python\n",
    "\n",
    "Doing basic data manipulations in Python with Pandas' Frames"
   ]
  },
  {
   "cell_type": "markdown",
   "metadata": {},
   "source": [
    "## Getting started using these resources"
   ]
  },
  {
   "cell_type": "markdown",
   "metadata": {},
   "source": [
    "All resources needed during lab classes are already installed in the laboratory machines. However, if you want to use them in your own computer, following we present how to do it.\n",
    "\n",
    "Download and install Python, IPython Notebook through Anaconda: https://www.continuum.io/downloads\n",
    "\n",
    "Download and install Scikit-learn distribution: http://scikit-learn.org/stable/\n",
    "\n"
   ]
  },
  {
   "cell_type": "markdown",
   "metadata": {},
   "source": [
    "## Assignment question 1\n",
    "\n",
    "Who invented Python and why? What was the language designed to do? What is the origin of the name \"python\"? Is the language a compiled language? Is it an object oriented language?"
   ]
  },
  {
   "cell_type": "markdown",
   "metadata": {},
   "source": [
    "- O Python foi concebido no final de 1989 por Guido van Rossum no Instituto de Pesquisa Nacional para Matemática e Ciência da Computação (CWI);\n",
    "- Python foi feita com base na linguagem ABC, possui parte da sintaxe derivada do C, compreensão de listas, funções anonimas e função map de Haskell;\n",
    "- O nome Python teve a sua origem no grupo humorístico britânico Monty Python, criador do programa Monty Python's Flying Circus;\n",
    "- A linguagem é interpretada e orientada a objetos."
   ]
  },
  {
   "cell_type": "markdown",
   "metadata": {},
   "source": [
    "## Assignment question 2\n",
    "\n",
    "Read on the internet about the following python libraries: Scikit-learn, numpy, matplotlib, scipy and pandas. What functionality does each provide python? What is the pylab library and how it is related to each other libraries?"
   ]
  },
  {
   "cell_type": "markdown",
   "metadata": {},
   "source": [
    "- Scikit-learn => biblioteca projetada para interagir com as bibliotecas python numéricas e científicas NumPy e SciPy para classificação, regressão e agrupamento;\n",
    "- Numpy =>  pacote com suporte a arrays e matrizes multidimensionais, possuindo uma larga coleção de funções matemáticas para trabalhar com estas estruturas;\n",
    "- Matplotlib => módulo do pacote Numpy que fornece uma API orientada a objetos para incorporar gráficos em aplicativos que usam kits de ferramentas GUI; \n",
    "- Scipy => uma extensão da biblioteca NumPy, onde fornece uma manipulação conveniente e rápida de um array N-dimensional;\n",
    "- Pandas => bilioteca que fornece uma estrutura de dados de alto desempenho de fácil utilização e ferramentas de análise de dados;\n",
    "- Pylab => módulo da linguagem Python vinculada ao pacote NumPy que permite gerar gráficos de duas dimensões de excelente qualidade, permitindo edição interativa, animações, inúmeros tipos de gráficos diferentes, anotações em sintaxe Latex e salvamento das imagens geradas em diversos formatos diferentes."
   ]
  },
  {
   "cell_type": "markdown",
   "metadata": {},
   "source": [
    "## Assignment question 3\n",
    "\n",
    "What is Jupyter Notebook and why was it inveted? Give some examples of functionality it gives over standard python. What is the jupyter project? Name two languages involved in the Jupyter project other than python."
   ]
  },
  {
   "cell_type": "markdown",
   "metadata": {},
   "source": [
    "- O Jupyter Notebook é uma aplicação web de código aberto que permite criar e compartilhar documentos que contenham código ao vivo, equações, visualizações e texto explicativo. Os usos incluem: limpeza e transformação de dados, simulação numérica, modelagem estatística, aprendizado de máquinas e muito mais. Jupyter fornece suporte para R e Scala."
   ]
  },
  {
   "cell_type": "markdown",
   "metadata": {},
   "source": [
    "## Download the data and sample code and familiarize yourself with the notebooks\n",
    "\n",
    "Before doing the assignments in this course, familiarize yourself with the two following notebooks:\n",
    "\n",
    "Download the notebook that covers getting started with Python: Getting started with iPython Notebook\n",
    "\n",
    "Download the notebook that covers getting started with Pandas: Getting Started with Pandas\n",
    "\n",
    "Download the simple people dataset: people-example.csv\n",
    "\n",
    "#### Save all these files in the same directory. If you are not sure where to sabe the files? See this guide:"
   ]
  },
  {
   "cell_type": "markdown",
   "metadata": {},
   "source": [
    "## Assignment question 4\n",
    "\n",
    "Descrive the following functions of SFrames:\n",
    "\n",
    "head()\n",
    "\n",
    "tail()\n",
    "\n",
    "show()\n",
    "\n",
    "apply()"
   ]
  },
  {
   "cell_type": "markdown",
   "metadata": {},
   "source": [
    "- Head() -> mostra o início da tabela;\n",
    "- Tail() -> mostra o final da tabela;\n",
    "- Show() -> gera um gráfico com os dados da tabela;\n",
    "- Apply() -> "
   ]
  },
  {
   "cell_type": "markdown",
   "metadata": {},
   "source": [
    "### Congratulations!!! Now you are ready to get started! From here, you will be ready to do all the assignments in the course, and build awesome intellingent applications that use machine learning!"
   ]
  }
 ],
 "metadata": {
  "kernelspec": {
   "display_name": "Python 2",
   "language": "python",
   "name": "python2"
  },
  "language_info": {
   "codemirror_mode": {
    "name": "ipython",
    "version": 2
   },
   "file_extension": ".py",
   "mimetype": "text/x-python",
   "name": "python",
   "nbconvert_exporter": "python",
   "pygments_lexer": "ipython2",
   "version": "2.7.13"
  }
 },
 "nbformat": 4,
 "nbformat_minor": 1
}
