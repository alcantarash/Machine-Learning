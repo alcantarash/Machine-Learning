{
 "cells": [
  {
   "cell_type": "markdown",
   "metadata": {},
   "source": [
    "# Document retrieval from wikipedia data"
   ]
  },
  {
   "cell_type": "markdown",
   "metadata": {},
   "source": [
    "## Fire up Libraries"
   ]
  },
  {
   "cell_type": "code",
   "execution_count": 1,
   "metadata": {
    "collapsed": true
   },
   "outputs": [],
   "source": [
    "import numpy as np\n",
    "import pandas as pd\n",
    "import sklearn\n",
    "from sklearn.feature_extraction.text import CountVectorizer,TfidfVectorizer\n",
    "from collections import Counter\n",
    "import matplotlib.pyplot as plt\n",
    "%matplotlib inline\n",
    "from sklearn import metrics\n",
    "from operator import itemgetter\n",
    "\n",
    "from sklearn.metrics.pairwise import cosine_similarity\n",
    "\n",
    "from sklearn.neighbors import NearestNeighbors\n",
    "\n",
    "from sklearn.linear_model import LogisticRegression"
   ]
  },
  {
   "cell_type": "markdown",
   "metadata": {},
   "source": [
    "# Load some text data - from wikipedia, pages on people"
   ]
  },
  {
   "cell_type": "code",
   "execution_count": 2,
   "metadata": {
    "collapsed": true
   },
   "outputs": [],
   "source": [
    "people = pd.read_csv('people_wiki.csv', index_col='name')"
   ]
  },
  {
   "cell_type": "markdown",
   "metadata": {},
   "source": [
    "Data contains:  link to wikipedia article, name of person, text of article."
   ]
  },
  {
   "cell_type": "code",
   "execution_count": 3,
   "metadata": {},
   "outputs": [
    {
     "data": {
      "text/html": [
       "<div>\n",
       "<style>\n",
       "    .dataframe thead tr:only-child th {\n",
       "        text-align: right;\n",
       "    }\n",
       "\n",
       "    .dataframe thead th {\n",
       "        text-align: left;\n",
       "    }\n",
       "\n",
       "    .dataframe tbody tr th {\n",
       "        vertical-align: top;\n",
       "    }\n",
       "</style>\n",
       "<table border=\"1\" class=\"dataframe\">\n",
       "  <thead>\n",
       "    <tr style=\"text-align: right;\">\n",
       "      <th></th>\n",
       "      <th>URI</th>\n",
       "      <th>text</th>\n",
       "    </tr>\n",
       "    <tr>\n",
       "      <th>name</th>\n",
       "      <th></th>\n",
       "      <th></th>\n",
       "    </tr>\n",
       "  </thead>\n",
       "  <tbody>\n",
       "    <tr>\n",
       "      <th>Digby Morrell</th>\n",
       "      <td>&lt;http://dbpedia.org/resource/Digby_Morrell&gt;</td>\n",
       "      <td>digby morrell born 10 october 1979 is a former...</td>\n",
       "    </tr>\n",
       "    <tr>\n",
       "      <th>Alfred J. Lewy</th>\n",
       "      <td>&lt;http://dbpedia.org/resource/Alfred_J._Lewy&gt;</td>\n",
       "      <td>alfred j lewy aka sandy lewy graduated from un...</td>\n",
       "    </tr>\n",
       "    <tr>\n",
       "      <th>Harpdog Brown</th>\n",
       "      <td>&lt;http://dbpedia.org/resource/Harpdog_Brown&gt;</td>\n",
       "      <td>harpdog brown is a singer and harmonica player...</td>\n",
       "    </tr>\n",
       "    <tr>\n",
       "      <th>Franz Rottensteiner</th>\n",
       "      <td>&lt;http://dbpedia.org/resource/Franz_Rottensteiner&gt;</td>\n",
       "      <td>franz rottensteiner born in waidmannsfeld lowe...</td>\n",
       "    </tr>\n",
       "    <tr>\n",
       "      <th>G-Enka</th>\n",
       "      <td>&lt;http://dbpedia.org/resource/G-Enka&gt;</td>\n",
       "      <td>henry krvits born 30 december 1974 in tallinn ...</td>\n",
       "    </tr>\n",
       "  </tbody>\n",
       "</table>\n",
       "</div>"
      ],
      "text/plain": [
       "                                                                   URI  \\\n",
       "name                                                                     \n",
       "Digby Morrell              <http://dbpedia.org/resource/Digby_Morrell>   \n",
       "Alfred J. Lewy            <http://dbpedia.org/resource/Alfred_J._Lewy>   \n",
       "Harpdog Brown              <http://dbpedia.org/resource/Harpdog_Brown>   \n",
       "Franz Rottensteiner  <http://dbpedia.org/resource/Franz_Rottensteiner>   \n",
       "G-Enka                            <http://dbpedia.org/resource/G-Enka>   \n",
       "\n",
       "                                                                  text  \n",
       "name                                                                    \n",
       "Digby Morrell        digby morrell born 10 october 1979 is a former...  \n",
       "Alfred J. Lewy       alfred j lewy aka sandy lewy graduated from un...  \n",
       "Harpdog Brown        harpdog brown is a singer and harmonica player...  \n",
       "Franz Rottensteiner  franz rottensteiner born in waidmannsfeld lowe...  \n",
       "G-Enka               henry krvits born 30 december 1974 in tallinn ...  "
      ]
     },
     "execution_count": 3,
     "metadata": {},
     "output_type": "execute_result"
    }
   ],
   "source": [
    "people.head()"
   ]
  },
  {
   "cell_type": "code",
   "execution_count": 4,
   "metadata": {},
   "outputs": [
    {
     "data": {
      "text/plain": [
       "(59071, 2)"
      ]
     },
     "execution_count": 4,
     "metadata": {},
     "output_type": "execute_result"
    }
   ],
   "source": [
    "people.shape"
   ]
  },
  {
   "cell_type": "markdown",
   "metadata": {},
   "source": [
    "# Explore the dataset and checkout the text it contains\n",
    "\n",
    "## Exploring the entry for president Obama"
   ]
  },
  {
   "cell_type": "code",
   "execution_count": 5,
   "metadata": {
    "collapsed": true
   },
   "outputs": [],
   "source": [
    "obama = people[people.index == 'Barack Obama'].copy()"
   ]
  },
  {
   "cell_type": "code",
   "execution_count": 6,
   "metadata": {},
   "outputs": [
    {
     "data": {
      "text/html": [
       "<div>\n",
       "<style>\n",
       "    .dataframe thead tr:only-child th {\n",
       "        text-align: right;\n",
       "    }\n",
       "\n",
       "    .dataframe thead th {\n",
       "        text-align: left;\n",
       "    }\n",
       "\n",
       "    .dataframe tbody tr th {\n",
       "        vertical-align: top;\n",
       "    }\n",
       "</style>\n",
       "<table border=\"1\" class=\"dataframe\">\n",
       "  <thead>\n",
       "    <tr style=\"text-align: right;\">\n",
       "      <th></th>\n",
       "      <th>URI</th>\n",
       "      <th>text</th>\n",
       "    </tr>\n",
       "    <tr>\n",
       "      <th>name</th>\n",
       "      <th></th>\n",
       "      <th></th>\n",
       "    </tr>\n",
       "  </thead>\n",
       "  <tbody>\n",
       "    <tr>\n",
       "      <th>Barack Obama</th>\n",
       "      <td>&lt;http://dbpedia.org/resource/Barack_Obama&gt;</td>\n",
       "      <td>barack hussein obama ii brk husen bm born augu...</td>\n",
       "    </tr>\n",
       "  </tbody>\n",
       "</table>\n",
       "</div>"
      ],
      "text/plain": [
       "                                                     URI  \\\n",
       "name                                                       \n",
       "Barack Obama  <http://dbpedia.org/resource/Barack_Obama>   \n",
       "\n",
       "                                                           text  \n",
       "name                                                             \n",
       "Barack Obama  barack hussein obama ii brk husen bm born augu...  "
      ]
     },
     "execution_count": 6,
     "metadata": {},
     "output_type": "execute_result"
    }
   ],
   "source": [
    "obama"
   ]
  },
  {
   "cell_type": "code",
   "execution_count": 7,
   "metadata": {},
   "outputs": [
    {
     "name": "stdout",
     "output_type": "stream",
     "text": [
      "barack hussein obama ii brk husen bm born august 4 1961 is the 44th and current president of the united states and the first african american to hold the office born in honolulu hawaii obama is a graduate of columbia university and harvard law school where he served as president of the harvard law review he was a community organizer in chicago before earning his law degree he worked as a civil rights attorney and taught constitutional law at the university of chicago law school from 1992 to 2004 he served three terms representing the 13th district in the illinois senate from 1997 to 2004 running unsuccessfully for the united states house of representatives in 2000in 2004 obama received national attention during his campaign to represent illinois in the united states senate with his victory in the march democratic party primary his keynote address at the democratic national convention in july and his election to the senate in november he began his presidential campaign in 2007 and after a close primary campaign against hillary rodham clinton in 2008 he won sufficient delegates in the democratic party primaries to receive the presidential nomination he then defeated republican nominee john mccain in the general election and was inaugurated as president on january 20 2009 nine months after his election obama was named the 2009 nobel peace prize laureateduring his first two years in office obama signed into law economic stimulus legislation in response to the great recession in the form of the american recovery and reinvestment act of 2009 and the tax relief unemployment insurance reauthorization and job creation act of 2010 other major domestic initiatives in his first term included the patient protection and affordable care act often referred to as obamacare the doddfrank wall street reform and consumer protection act and the dont ask dont tell repeal act of 2010 in foreign policy obama ended us military involvement in the iraq war increased us troop levels in afghanistan signed the new start arms control treaty with russia ordered us military involvement in libya and ordered the military operation that resulted in the death of osama bin laden in january 2011 the republicans regained control of the house of representatives as the democratic party lost a total of 63 seats and after a lengthy debate over federal spending and whether or not to raise the nations debt limit obama signed the budget control act of 2011 and the american taxpayer relief act of 2012obama was reelected president in november 2012 defeating republican nominee mitt romney and was sworn in for a second term on january 20 2013 during his second term obama has promoted domestic policies related to gun control in response to the sandy hook elementary school shooting and has called for full equality for lgbt americans while his administration has filed briefs which urged the supreme court to strike down the defense of marriage act of 1996 and californias proposition 8 as unconstitutional in foreign policy obama ordered us military involvement in iraq in response to gains made by the islamic state in iraq after the 2011 withdrawal from iraq continued the process of ending us combat operations in afghanistan and has sought to normalize us relations with cuba\n"
     ]
    }
   ],
   "source": [
    "print obama['text'].values[0]"
   ]
  },
  {
   "cell_type": "markdown",
   "metadata": {},
   "source": [
    "## Exploring the entry for actor George Clooney"
   ]
  },
  {
   "cell_type": "code",
   "execution_count": 8,
   "metadata": {},
   "outputs": [
    {
     "name": "stdout",
     "output_type": "stream",
     "text": [
      "george timothy clooney born may 6 1961 is an american actor writer producer director and activist he has received three golden globe awards for his work as an actor and two academy awards one for acting and the other for producingclooney made his acting debut on television in 1978 and later gained wide recognition in his role as dr doug ross on the longrunning medical drama er from 1994 to 1999 for which he received two emmy award nominations while working on er he began attracting a variety of leading roles in films including the superhero film batman robin 1997 and the crime comedy out of sight 1998 in which he first worked with a director who would become a longtime collaborator steven soderbergh in 1999 clooney took the lead role in three kings a wellreceived war satire set during the gulf warin 2001 clooneys fame widened with the release of his biggest commercial success the heist comedy oceans eleven the first of the film trilogy a remake of the 1960 film with frank sinatra as danny ocean he made his directorial debut a year later with the biographical thriller confessions of a dangerous mind and has since directed the drama good night and good luck 2005 the sports comedy leatherheads 2008 the political drama the ides of march 2011 and the comedydrama war film the monuments men 2014he won an academy award for best supporting actor for the middle east thriller syriana 2005 and subsequently earned best actor nominations for the legal thriller michael clayton 2007 the comedydrama up in the air 2009 and the drama the descendants 2011 in 2013 he received the academy award for best picture for producing the political thriller argo alongside ben affleck and grant heslov he is the only person ever to be nominated for academy awards in six categoriesclooney is sometimes described as one of the most handsome men in the world in 2005 tv guide ranked clooney no 1 on its 50 sexiest stars of all time list in 2009 he was included in times annual time 100 as one of the most influential people in the world clooney is also noted for his political activism and has served as one of the united nations messengers of peace since january 31 2008 his humanitarian work includes his advocacy of finding a resolution for the darfur conflict raising funds for the 2010 haiti earthquake 2004 tsunami and 911 victims and creating documentaries such as sand and sorrow to raise awareness about international crises he is also a member of the council on foreign relations\n"
     ]
    }
   ],
   "source": [
    "clooney = people[people.index == 'George Clooney']\n",
    "print clooney['text'].values[0]"
   ]
  },
  {
   "cell_type": "markdown",
   "metadata": {},
   "source": [
    "# Get the word counts for Obama article"
   ]
  },
  {
   "cell_type": "code",
   "execution_count": 9,
   "metadata": {
    "collapsed": true
   },
   "outputs": [],
   "source": [
    "count_vectorizer    = CountVectorizer()\n",
    "obama['word_count'] = count_vectorizer.fit_transform(obama['text'].values)"
   ]
  },
  {
   "cell_type": "markdown",
   "metadata": {},
   "source": [
    "## Showing the features (i.e. words)"
   ]
  },
  {
   "cell_type": "code",
   "execution_count": 10,
   "metadata": {},
   "outputs": [
    {
     "name": "stdout",
     "output_type": "stream",
     "text": [
      "[u'13th', u'1961', u'1992', u'1996', u'1997', u'20', u'2000in', u'2004', u'2007', u'2008', u'2009', u'2010', u'2011', u'2012', u'2012obama', u'2013', u'44th', u'63', u'act', u'address', u'administration', u'affordable', u'afghanistan', u'african', u'after', u'against', u'american', u'americans', u'and', u'arms', u'as', u'ask', u'at', u'attention', u'attorney', u'august', u'barack', u'before', u'began', u'bin', u'bm', u'born', u'briefs', u'brk', u'budget', u'by', u'californias', u'called', u'campaign', u'care', u'chicago', u'civil', u'clinton', u'close', u'columbia', u'combat', u'community', u'constitutional', u'consumer', u'continued', u'control', u'convention', u'court', u'creation', u'cuba', u'current', u'death', u'debate', u'debt', u'defeated', u'defeating', u'defense', u'degree', u'delegates', u'democratic', u'district', u'doddfrank', u'domestic', u'dont', u'down', u'during', u'earning', u'economic', u'election', u'elementary', u'ended', u'ending', u'equality', u'federal', u'filed', u'first', u'for', u'foreign', u'form', u'from', u'full', u'gains', u'general', u'graduate', u'great', u'gun', u'harvard', u'has', u'hawaii', u'he', u'hillary', u'his', u'hold', u'honolulu', u'hook', u'house', u'husen', u'hussein', u'ii', u'illinois', u'in', u'inaugurated', u'included', u'increased', u'initiatives', u'insurance', u'into', u'involvement', u'iraq', u'is', u'islamic', u'january', u'job', u'john', u'july', u'keynote', u'laden', u'laureateduring', u'law', u'legislation', u'lengthy', u'levels', u'lgbt', u'libya', u'limit', u'lost', u'made', u'major', u'march', u'marriage', u'mccain', u'military', u'mitt', u'months', u'named', u'national', u'nations', u'new', u'nine', u'nobel', u'nomination', u'nominee', u'normalize', u'not', u'november', u'obama', u'obamacare', u'of', u'office', u'often', u'on', u'operation', u'operations', u'or', u'ordered', u'organizer', u'osama', u'other', u'over', u'party', u'patient', u'peace', u'policies', u'policy', u'president', u'presidential', u'primaries', u'primary', u'prize', u'process', u'promoted', u'proposition', u'protection', u'raise', u'reauthorization', u'receive', u'received', u'recession', u'recovery', u'reelected', u'referred', u'reform', u'regained', u'reinvestment', u'related', u'relations', u'relief', u'repeal', u'represent', u'representatives', u'representing', u'republican', u'republicans', u'response', u'resulted', u'review', u'rights', u'rodham', u'romney', u'running', u'russia', u'sandy', u'school', u'seats', u'second', u'senate', u'served', u'shooting', u'signed', u'sought', u'spending', u'start', u'state', u'states', u'stimulus', u'street', u'strike', u'sufficient', u'supreme', u'sworn', u'taught', u'tax', u'taxpayer', u'tell', u'term', u'terms', u'that', u'the', u'then', u'three', u'to', u'total', u'treaty', u'troop', u'two', u'unconstitutional', u'unemployment', u'united', u'university', u'unsuccessfully', u'urged', u'us', u'victory', u'wall', u'war', u'was', u'where', u'whether', u'which', u'while', u'with', u'withdrawal', u'won', u'worked', u'years']\n"
     ]
    }
   ],
   "source": [
    "print count_vectorizer.get_feature_names()"
   ]
  },
  {
   "cell_type": "markdown",
   "metadata": {},
   "source": [
    "## Sort the word counts for the Obama article"
   ]
  },
  {
   "cell_type": "code",
   "execution_count": 11,
   "metadata": {},
   "outputs": [
    {
     "name": "stdout",
     "output_type": "stream",
     "text": [
      "[(u'the', 40), (u'in', 30), (u'and', 21), (u'of', 18), (u'to', 14), (u'his', 11), (u'obama', 9), (u'act', 8), (u'he', 7), (u'law', 6)]\n"
     ]
    }
   ],
   "source": [
    "vocab  = list(count_vectorizer.get_feature_names())\n",
    "counts = obama['word_count'].values.sum(axis=0).toarray()[0]\n",
    "\n",
    "freq_distribution = Counter(dict(zip(vocab, counts)))\n",
    "print (freq_distribution.most_common(10))"
   ]
  },
  {
   "cell_type": "markdown",
   "metadata": {},
   "source": [
    "Most common words include uninformative words like \"the\", \"in\", \"and\",..."
   ]
  },
  {
   "cell_type": "markdown",
   "metadata": {},
   "source": [
    "# Compute TF-IDF for the corpus \n",
    "\n",
    "To give more weight to informative words, we weigh them by their TF-IDF scores."
   ]
  },
  {
   "cell_type": "code",
   "execution_count": 12,
   "metadata": {
    "collapsed": true
   },
   "outputs": [],
   "source": [
    "tfidf_vectorizer = TfidfVectorizer()\n",
    "people['tfidf']  = list(tfidf_vectorizer.fit_transform(people['text']))"
   ]
  },
  {
   "cell_type": "code",
   "execution_count": 13,
   "metadata": {},
   "outputs": [
    {
     "data": {
      "text/plain": [
       "(59071, 3)"
      ]
     },
     "execution_count": 13,
     "metadata": {},
     "output_type": "execute_result"
    }
   ],
   "source": [
    "people.shape"
   ]
  },
  {
   "cell_type": "code",
   "execution_count": 14,
   "metadata": {},
   "outputs": [
    {
     "data": {
      "text/plain": [
       "548429"
      ]
     },
     "execution_count": 14,
     "metadata": {},
     "output_type": "execute_result"
    }
   ],
   "source": [
    "len(tfidf_vectorizer.vocabulary_)"
   ]
  },
  {
   "cell_type": "markdown",
   "metadata": {},
   "source": [
    "## Examine the TF-IDF for the Obama article"
   ]
  },
  {
   "cell_type": "code",
   "execution_count": 15,
   "metadata": {
    "collapsed": true
   },
   "outputs": [],
   "source": [
    "obama = people[people.index == 'Barack Obama'].copy()"
   ]
  },
  {
   "cell_type": "code",
   "execution_count": 16,
   "metadata": {},
   "outputs": [
    {
     "data": {
      "text/plain": [
       "<1x548429 sparse matrix of type '<type 'numpy.float64'>'\n",
       "\twith 270 stored elements in Compressed Sparse Row format>"
      ]
     },
     "execution_count": 16,
     "metadata": {},
     "output_type": "execute_result"
    }
   ],
   "source": [
    "obama['tfidf'].values[0]"
   ]
  },
  {
   "cell_type": "code",
   "execution_count": 17,
   "metadata": {
    "scrolled": true
   },
   "outputs": [
    {
     "name": "stdout",
     "output_type": "stream",
     "text": [
      "[(u'obama', 0.36501758981877808), (u'the', 0.27932274000236151), (u'act', 0.2490890416206761), (u'in', 0.20967299876631698), (u'iraq', 0.15180855532927304), (u'and', 0.14673880270062417), (u'law', 0.14468744228550123), (u'control', 0.13185717906932251), (u'of', 0.1262048162788276), (u'us', 0.12283397315748205)]\n"
     ]
    }
   ],
   "source": [
    "vocab = tfidf_vectorizer.get_feature_names()\n",
    "\n",
    "response = obama['tfidf'].values[0]\n",
    "l = [(vocab[col], response[0, col]) for col in response.nonzero()[1]]\n",
    "l = sorted(l, key=itemgetter(1),reverse=True)\n",
    "print l[:10]"
   ]
  },
  {
   "cell_type": "markdown",
   "metadata": {},
   "source": [
    "Words with highest TF-IDF are much more informative."
   ]
  },
  {
   "cell_type": "markdown",
   "metadata": {},
   "source": [
    "# Eliminating stopwords"
   ]
  },
  {
   "cell_type": "code",
   "execution_count": 18,
   "metadata": {},
   "outputs": [
    {
     "name": "stdout",
     "output_type": "stream",
     "text": [
      "[(u'obama', 9), (u'act', 8), (u'law', 6), (u'military', 4), (u'iraq', 4), (u'control', 4), (u'president', 4), (u'democratic', 4), (u'2011', 3), (u'school', 3)]\n"
     ]
    }
   ],
   "source": [
    "count_vectorizer    = CountVectorizer(stop_words='english')\n",
    "obama['word_count'] = count_vectorizer.fit_transform(obama['text'].values)\n",
    "\n",
    "vocab  = list(count_vectorizer.get_feature_names())\n",
    "counts = obama['word_count'].values.sum(axis=0).toarray()[0]\n",
    "\n",
    "freq_distribution = Counter(dict(zip(vocab, counts)))\n",
    "print (freq_distribution.most_common(10))"
   ]
  },
  {
   "cell_type": "code",
   "execution_count": 19,
   "metadata": {},
   "outputs": [
    {
     "name": "stdout",
     "output_type": "stream",
     "text": [
      "[(u'obama', 0.41349455267538882), (u'act', 0.28216985897150365), (u'iraq', 0.1719698240003707), (u'law', 0.16390297589574321), (u'control', 0.14936876138866909), (u'ordered', 0.13863257254400477), (u'military', 0.1353676447383487), (u'democratic', 0.12979169658143577), (u'response', 0.12482116078603717), (u'involvement', 0.12482116078603717)]\n"
     ]
    }
   ],
   "source": [
    "tfidf_vectorizer = TfidfVectorizer(stop_words='english')\n",
    "people['tfidf']  = list(tfidf_vectorizer.fit_transform(people['text']))\n",
    "\n",
    "vocab = tfidf_vectorizer.get_feature_names()\n",
    "\n",
    "obama    = people[people.index == 'Barack Obama'].copy()\n",
    "response = obama['tfidf'].values[0]\n",
    "l        = [(vocab[col], response[0, col]) for col in response.nonzero()[1]]\n",
    "l        = sorted(l, key=itemgetter(1),reverse=True)\n",
    "print l[:10]"
   ]
  },
  {
   "cell_type": "markdown",
   "metadata": {},
   "source": [
    "# Manually compute distances between a few people\n",
    "\n",
    "Let's manually compare the distances between the articles for a few famous people.  "
   ]
  },
  {
   "cell_type": "code",
   "execution_count": 20,
   "metadata": {
    "collapsed": true
   },
   "outputs": [],
   "source": [
    "clinton = people[people.index == 'Bill Clinton'].copy()"
   ]
  },
  {
   "cell_type": "code",
   "execution_count": 21,
   "metadata": {
    "collapsed": true
   },
   "outputs": [],
   "source": [
    "beckham = people[people.index == 'David Beckham'].copy()"
   ]
  },
  {
   "cell_type": "markdown",
   "metadata": {},
   "source": [
    "## Is Obama closer to Clinton than to Beckham?\n",
    "\n",
    "We will find that the article about president Obama is closer to the one about former president Clinton than that of footballer David Beckham."
   ]
  },
  {
   "cell_type": "code",
   "execution_count": 22,
   "metadata": {},
   "outputs": [
    {
     "data": {
      "text/plain": [
       "array([[ 0.18896718]])"
      ]
     },
     "execution_count": 22,
     "metadata": {},
     "output_type": "execute_result"
    }
   ],
   "source": [
    "cosine_similarity(obama['tfidf'].values[0], clinton['tfidf'].values[0])"
   ]
  },
  {
   "cell_type": "code",
   "execution_count": 23,
   "metadata": {},
   "outputs": [
    {
     "data": {
      "text/plain": [
       "array([[ 0.02556581]])"
      ]
     },
     "execution_count": 23,
     "metadata": {},
     "output_type": "execute_result"
    }
   ],
   "source": [
    "cosine_similarity(obama['tfidf'].values[0], beckham['tfidf'].values[0])"
   ]
  },
  {
   "cell_type": "markdown",
   "metadata": {},
   "source": [
    "# Build a nearest neighbor model for document retrieval\n",
    "\n",
    "We now create a nearest-neighbors model and apply it to document retrieval.  "
   ]
  },
  {
   "cell_type": "code",
   "execution_count": 24,
   "metadata": {
    "collapsed": true
   },
   "outputs": [],
   "source": [
    "tfidf_matrix = tfidf_vectorizer.fit_transform(people['text'])\n",
    "nbrs         = NearestNeighbors(n_neighbors=10).fit(tfidf_matrix)"
   ]
  },
  {
   "cell_type": "code",
   "execution_count": 25,
   "metadata": {
    "collapsed": true
   },
   "outputs": [],
   "source": [
    "def get_closest_neighbors(name):\n",
    "    row                = people.index.get_loc(name)\n",
    "    distances, indices = nbrs.kneighbors(tfidf_matrix.getrow(row))\n",
    "    names_similar      = pd.Series(indices.flatten()).map(people.reset_index()['name'])\n",
    "    result             = pd.DataFrame({'distance':distances.flatten(), 'name':names_similar})\n",
    "    return result"
   ]
  },
  {
   "cell_type": "markdown",
   "metadata": {},
   "source": [
    "# Applying the nearest-neighbors model for retrieval"
   ]
  },
  {
   "cell_type": "markdown",
   "metadata": {},
   "source": [
    "## Who is closest to Obama?"
   ]
  },
  {
   "cell_type": "code",
   "execution_count": 26,
   "metadata": {},
   "outputs": [
    {
     "data": {
      "text/html": [
       "<div>\n",
       "<style>\n",
       "    .dataframe thead tr:only-child th {\n",
       "        text-align: right;\n",
       "    }\n",
       "\n",
       "    .dataframe thead th {\n",
       "        text-align: left;\n",
       "    }\n",
       "\n",
       "    .dataframe tbody tr th {\n",
       "        vertical-align: top;\n",
       "    }\n",
       "</style>\n",
       "<table border=\"1\" class=\"dataframe\">\n",
       "  <thead>\n",
       "    <tr style=\"text-align: right;\">\n",
       "      <th></th>\n",
       "      <th>distance</th>\n",
       "      <th>name</th>\n",
       "    </tr>\n",
       "  </thead>\n",
       "  <tbody>\n",
       "    <tr>\n",
       "      <th>0</th>\n",
       "      <td>0.000000</td>\n",
       "      <td>Barack Obama</td>\n",
       "    </tr>\n",
       "    <tr>\n",
       "      <th>1</th>\n",
       "      <td>1.165145</td>\n",
       "      <td>Joe Biden</td>\n",
       "    </tr>\n",
       "    <tr>\n",
       "      <th>2</th>\n",
       "      <td>1.207369</td>\n",
       "      <td>Samantha Power</td>\n",
       "    </tr>\n",
       "    <tr>\n",
       "      <th>3</th>\n",
       "      <td>1.219640</td>\n",
       "      <td>Hillary Rodham Clinton</td>\n",
       "    </tr>\n",
       "    <tr>\n",
       "      <th>4</th>\n",
       "      <td>1.222509</td>\n",
       "      <td>Eric Stern (politician)</td>\n",
       "    </tr>\n",
       "    <tr>\n",
       "      <th>5</th>\n",
       "      <td>1.236178</td>\n",
       "      <td>Robert Gibbs</td>\n",
       "    </tr>\n",
       "    <tr>\n",
       "      <th>6</th>\n",
       "      <td>1.243057</td>\n",
       "      <td>Henry Waxman</td>\n",
       "    </tr>\n",
       "    <tr>\n",
       "      <th>7</th>\n",
       "      <td>1.244667</td>\n",
       "      <td>Jesse Lee (politician)</td>\n",
       "    </tr>\n",
       "    <tr>\n",
       "      <th>8</th>\n",
       "      <td>1.248296</td>\n",
       "      <td>Eric Holder</td>\n",
       "    </tr>\n",
       "    <tr>\n",
       "      <th>9</th>\n",
       "      <td>1.251607</td>\n",
       "      <td>Joe the Plumber</td>\n",
       "    </tr>\n",
       "  </tbody>\n",
       "</table>\n",
       "</div>"
      ],
      "text/plain": [
       "   distance                     name\n",
       "0  0.000000             Barack Obama\n",
       "1  1.165145                Joe Biden\n",
       "2  1.207369           Samantha Power\n",
       "3  1.219640   Hillary Rodham Clinton\n",
       "4  1.222509  Eric Stern (politician)\n",
       "5  1.236178             Robert Gibbs\n",
       "6  1.243057             Henry Waxman\n",
       "7  1.244667   Jesse Lee (politician)\n",
       "8  1.248296              Eric Holder\n",
       "9  1.251607          Joe the Plumber"
      ]
     },
     "execution_count": 26,
     "metadata": {},
     "output_type": "execute_result"
    }
   ],
   "source": [
    "get_closest_neighbors('Barack Obama')"
   ]
  },
  {
   "cell_type": "markdown",
   "metadata": {},
   "source": [
    "As we can see, president Obama's article is closest to the one about his vice-president Biden, and those of other politicians.  "
   ]
  },
  {
   "cell_type": "markdown",
   "metadata": {},
   "source": [
    "## Other examples of document retrieval"
   ]
  },
  {
   "cell_type": "code",
   "execution_count": 27,
   "metadata": {},
   "outputs": [
    {
     "data": {
      "text/html": [
       "<div>\n",
       "<style>\n",
       "    .dataframe thead tr:only-child th {\n",
       "        text-align: right;\n",
       "    }\n",
       "\n",
       "    .dataframe thead th {\n",
       "        text-align: left;\n",
       "    }\n",
       "\n",
       "    .dataframe tbody tr th {\n",
       "        vertical-align: top;\n",
       "    }\n",
       "</style>\n",
       "<table border=\"1\" class=\"dataframe\">\n",
       "  <thead>\n",
       "    <tr style=\"text-align: right;\">\n",
       "      <th></th>\n",
       "      <th>distance</th>\n",
       "      <th>name</th>\n",
       "    </tr>\n",
       "  </thead>\n",
       "  <tbody>\n",
       "    <tr>\n",
       "      <th>0</th>\n",
       "      <td>0.000000</td>\n",
       "      <td>Taylor Swift</td>\n",
       "    </tr>\n",
       "    <tr>\n",
       "      <th>1</th>\n",
       "      <td>1.183004</td>\n",
       "      <td>Carrie Underwood</td>\n",
       "    </tr>\n",
       "    <tr>\n",
       "      <th>2</th>\n",
       "      <td>1.187754</td>\n",
       "      <td>Al Swift</td>\n",
       "    </tr>\n",
       "    <tr>\n",
       "      <th>3</th>\n",
       "      <td>1.193938</td>\n",
       "      <td>Ed Sheeran</td>\n",
       "    </tr>\n",
       "    <tr>\n",
       "      <th>4</th>\n",
       "      <td>1.197285</td>\n",
       "      <td>Tim McGraw</td>\n",
       "    </tr>\n",
       "    <tr>\n",
       "      <th>5</th>\n",
       "      <td>1.199189</td>\n",
       "      <td>Kelly Clarkson</td>\n",
       "    </tr>\n",
       "    <tr>\n",
       "      <th>6</th>\n",
       "      <td>1.199790</td>\n",
       "      <td>Adele</td>\n",
       "    </tr>\n",
       "    <tr>\n",
       "      <th>7</th>\n",
       "      <td>1.204965</td>\n",
       "      <td>Bill Swift</td>\n",
       "    </tr>\n",
       "    <tr>\n",
       "      <th>8</th>\n",
       "      <td>1.207081</td>\n",
       "      <td>Dolly Parton</td>\n",
       "    </tr>\n",
       "    <tr>\n",
       "      <th>9</th>\n",
       "      <td>1.208139</td>\n",
       "      <td>Joss Stone</td>\n",
       "    </tr>\n",
       "  </tbody>\n",
       "</table>\n",
       "</div>"
      ],
      "text/plain": [
       "   distance              name\n",
       "0  0.000000      Taylor Swift\n",
       "1  1.183004  Carrie Underwood\n",
       "2  1.187754          Al Swift\n",
       "3  1.193938        Ed Sheeran\n",
       "4  1.197285        Tim McGraw\n",
       "5  1.199189    Kelly Clarkson\n",
       "6  1.199790             Adele\n",
       "7  1.204965        Bill Swift\n",
       "8  1.207081      Dolly Parton\n",
       "9  1.208139        Joss Stone"
      ]
     },
     "execution_count": 27,
     "metadata": {},
     "output_type": "execute_result"
    }
   ],
   "source": [
    "get_closest_neighbors('Taylor Swift')"
   ]
  },
  {
   "cell_type": "code",
   "execution_count": 28,
   "metadata": {},
   "outputs": [
    {
     "data": {
      "text/html": [
       "<div>\n",
       "<style>\n",
       "    .dataframe thead tr:only-child th {\n",
       "        text-align: right;\n",
       "    }\n",
       "\n",
       "    .dataframe thead th {\n",
       "        text-align: left;\n",
       "    }\n",
       "\n",
       "    .dataframe tbody tr th {\n",
       "        vertical-align: top;\n",
       "    }\n",
       "</style>\n",
       "<table border=\"1\" class=\"dataframe\">\n",
       "  <thead>\n",
       "    <tr style=\"text-align: right;\">\n",
       "      <th></th>\n",
       "      <th>distance</th>\n",
       "      <th>name</th>\n",
       "    </tr>\n",
       "  </thead>\n",
       "  <tbody>\n",
       "    <tr>\n",
       "      <th>0</th>\n",
       "      <td>0.000000</td>\n",
       "      <td>Angelina Jolie</td>\n",
       "    </tr>\n",
       "    <tr>\n",
       "      <th>1</th>\n",
       "      <td>1.173973</td>\n",
       "      <td>Brad Pitt</td>\n",
       "    </tr>\n",
       "    <tr>\n",
       "      <th>2</th>\n",
       "      <td>1.241878</td>\n",
       "      <td>Keith Jolie</td>\n",
       "    </tr>\n",
       "    <tr>\n",
       "      <th>3</th>\n",
       "      <td>1.253190</td>\n",
       "      <td>Jodie Foster</td>\n",
       "    </tr>\n",
       "    <tr>\n",
       "      <th>4</th>\n",
       "      <td>1.254573</td>\n",
       "      <td>Maggie Smith</td>\n",
       "    </tr>\n",
       "    <tr>\n",
       "      <th>5</th>\n",
       "      <td>1.259312</td>\n",
       "      <td>Jessica Chastain</td>\n",
       "    </tr>\n",
       "    <tr>\n",
       "      <th>6</th>\n",
       "      <td>1.260160</td>\n",
       "      <td>Anne Hathaway</td>\n",
       "    </tr>\n",
       "    <tr>\n",
       "      <th>7</th>\n",
       "      <td>1.262106</td>\n",
       "      <td>Nicole Kidman</td>\n",
       "    </tr>\n",
       "    <tr>\n",
       "      <th>8</th>\n",
       "      <td>1.262143</td>\n",
       "      <td>Barry Voight</td>\n",
       "    </tr>\n",
       "    <tr>\n",
       "      <th>9</th>\n",
       "      <td>1.263898</td>\n",
       "      <td>Billy Bob Thornton</td>\n",
       "    </tr>\n",
       "  </tbody>\n",
       "</table>\n",
       "</div>"
      ],
      "text/plain": [
       "   distance                name\n",
       "0  0.000000      Angelina Jolie\n",
       "1  1.173973           Brad Pitt\n",
       "2  1.241878         Keith Jolie\n",
       "3  1.253190        Jodie Foster\n",
       "4  1.254573        Maggie Smith\n",
       "5  1.259312    Jessica Chastain\n",
       "6  1.260160       Anne Hathaway\n",
       "7  1.262106       Nicole Kidman\n",
       "8  1.262143        Barry Voight\n",
       "9  1.263898  Billy Bob Thornton"
      ]
     },
     "execution_count": 28,
     "metadata": {},
     "output_type": "execute_result"
    }
   ],
   "source": [
    "get_closest_neighbors('Angelina Jolie')"
   ]
  },
  {
   "cell_type": "code",
   "execution_count": 29,
   "metadata": {},
   "outputs": [
    {
     "data": {
      "text/html": [
       "<div>\n",
       "<style>\n",
       "    .dataframe thead tr:only-child th {\n",
       "        text-align: right;\n",
       "    }\n",
       "\n",
       "    .dataframe thead th {\n",
       "        text-align: left;\n",
       "    }\n",
       "\n",
       "    .dataframe tbody tr th {\n",
       "        vertical-align: top;\n",
       "    }\n",
       "</style>\n",
       "<table border=\"1\" class=\"dataframe\">\n",
       "  <thead>\n",
       "    <tr style=\"text-align: right;\">\n",
       "      <th></th>\n",
       "      <th>distance</th>\n",
       "      <th>name</th>\n",
       "    </tr>\n",
       "  </thead>\n",
       "  <tbody>\n",
       "    <tr>\n",
       "      <th>0</th>\n",
       "      <td>0.000000</td>\n",
       "      <td>Arnold Schwarzenegger</td>\n",
       "    </tr>\n",
       "    <tr>\n",
       "      <th>1</th>\n",
       "      <td>1.259683</td>\n",
       "      <td>Bonnie Garcia</td>\n",
       "    </tr>\n",
       "    <tr>\n",
       "      <th>2</th>\n",
       "      <td>1.263233</td>\n",
       "      <td>Paul Grant (bodybuilder)</td>\n",
       "    </tr>\n",
       "    <tr>\n",
       "      <th>3</th>\n",
       "      <td>1.283846</td>\n",
       "      <td>Gray Davis</td>\n",
       "    </tr>\n",
       "    <tr>\n",
       "      <th>4</th>\n",
       "      <td>1.284463</td>\n",
       "      <td>James Tramel</td>\n",
       "    </tr>\n",
       "    <tr>\n",
       "      <th>5</th>\n",
       "      <td>1.285100</td>\n",
       "      <td>Abel Maldonado</td>\n",
       "    </tr>\n",
       "    <tr>\n",
       "      <th>6</th>\n",
       "      <td>1.293240</td>\n",
       "      <td>Bruce McPherson</td>\n",
       "    </tr>\n",
       "    <tr>\n",
       "      <th>7</th>\n",
       "      <td>1.294107</td>\n",
       "      <td>Charlene Zettel</td>\n",
       "    </tr>\n",
       "    <tr>\n",
       "      <th>8</th>\n",
       "      <td>1.301621</td>\n",
       "      <td>Russell Gould</td>\n",
       "    </tr>\n",
       "    <tr>\n",
       "      <th>9</th>\n",
       "      <td>1.301828</td>\n",
       "      <td>David Israel</td>\n",
       "    </tr>\n",
       "  </tbody>\n",
       "</table>\n",
       "</div>"
      ],
      "text/plain": [
       "   distance                      name\n",
       "0  0.000000     Arnold Schwarzenegger\n",
       "1  1.259683             Bonnie Garcia\n",
       "2  1.263233  Paul Grant (bodybuilder)\n",
       "3  1.283846                Gray Davis\n",
       "4  1.284463              James Tramel\n",
       "5  1.285100            Abel Maldonado\n",
       "6  1.293240           Bruce McPherson\n",
       "7  1.294107           Charlene Zettel\n",
       "8  1.301621             Russell Gould\n",
       "9  1.301828              David Israel"
      ]
     },
     "execution_count": 29,
     "metadata": {},
     "output_type": "execute_result"
    }
   ],
   "source": [
    "get_closest_neighbors('Arnold Schwarzenegger')"
   ]
  },
  {
   "cell_type": "markdown",
   "metadata": {},
   "source": [
    "# Quizz questions"
   ]
  },
  {
   "cell_type": "markdown",
   "metadata": {},
   "source": [
    "### Answer 1"
   ]
  },
  {
   "cell_type": "code",
   "execution_count": 30,
   "metadata": {
    "collapsed": true
   },
   "outputs": [],
   "source": [
    "elton = people[people.index == 'Elton John'].copy()"
   ]
  },
  {
   "cell_type": "code",
   "execution_count": 31,
   "metadata": {},
   "outputs": [
    {
     "data": {
      "text/html": [
       "<div>\n",
       "<style>\n",
       "    .dataframe thead tr:only-child th {\n",
       "        text-align: right;\n",
       "    }\n",
       "\n",
       "    .dataframe thead th {\n",
       "        text-align: left;\n",
       "    }\n",
       "\n",
       "    .dataframe tbody tr th {\n",
       "        vertical-align: top;\n",
       "    }\n",
       "</style>\n",
       "<table border=\"1\" class=\"dataframe\">\n",
       "  <thead>\n",
       "    <tr style=\"text-align: right;\">\n",
       "      <th></th>\n",
       "      <th>URI</th>\n",
       "      <th>text</th>\n",
       "      <th>tfidf</th>\n",
       "    </tr>\n",
       "    <tr>\n",
       "      <th>name</th>\n",
       "      <th></th>\n",
       "      <th></th>\n",
       "      <th></th>\n",
       "    </tr>\n",
       "  </thead>\n",
       "  <tbody>\n",
       "    <tr>\n",
       "      <th>Elton John</th>\n",
       "      <td>&lt;http://dbpedia.org/resource/Elton_John&gt;</td>\n",
       "      <td>sir elton hercules john cbe born reginald kenn...</td>\n",
       "      <td>(0, 96562)\\t0.0131480794741\\n  (0, 704)\\t0.0...</td>\n",
       "    </tr>\n",
       "  </tbody>\n",
       "</table>\n",
       "</div>"
      ],
      "text/plain": [
       "                                                 URI  \\\n",
       "name                                                   \n",
       "Elton John  <http://dbpedia.org/resource/Elton_John>   \n",
       "\n",
       "                                                         text  \\\n",
       "name                                                            \n",
       "Elton John  sir elton hercules john cbe born reginald kenn...   \n",
       "\n",
       "                                                        tfidf  \n",
       "name                                                           \n",
       "Elton John    (0, 96562)\\t0.0131480794741\\n  (0, 704)\\t0.0...  "
      ]
     },
     "execution_count": 31,
     "metadata": {},
     "output_type": "execute_result"
    }
   ],
   "source": [
    "elton"
   ]
  },
  {
   "cell_type": "code",
   "execution_count": 32,
   "metadata": {},
   "outputs": [
    {
     "name": "stdout",
     "output_type": "stream",
     "text": [
      "sir elton hercules john cbe born reginald kenneth dwight 25 march 1947 is an english singer songwriter composer pianist record producer and occasional actor he has worked with lyricist bernie taupin as his songwriter partner since 1967 they have collaborated on more than 30 albums to datein his fivedecade career elton john has sold more than 300 million records making him one of the bestselling music artists in the world he has more than fifty top 40 hits including seven consecutive no 1 us albums 58 billboard top 40 singles 27 top 10 four no 2 and nine no 1 for 31 consecutive years 19702000 he had at least one song in the billboard hot 100 his single something about the way you look tonightcandle in the wind 1997 sold over 33 million copies worldwide and is the bestselling single of all time he has received six grammy awards five brit awards winning two awards for outstanding contribution to music and the first brits icon in 2013 for his lasting impact on british culture an academy award a golden globe award a tony award a disney legend award and the kennedy center honors in 2004 in 2004 rolling stone ranked him number 49 on its list of 100 influential musicians of the rock and roll era in 2008 billboard ranked him the most successful male solo artist on the billboard hot 100 top alltime artists third overallelton john was inducted into the rock and roll hall of fame in 1994 is an inductee into the songwriters hall of fame and is a fellow of the british academy of songwriters composers and authors having been named a commander of the order of the british empire in 1996 john received a knighthood from elizabeth ii for services to music and charitable services in 1998 john has performed at a number of royal events such as the funeral of princess diana at westminster abbey in 1997 the party at the palace in 2002 and the queens diamond jubilee concert outside buckingham palace in 2012he has been heavily involved in the fight against aids since the late 1980s in 1992 he established the elton john aids foundation and a year later began hosting the annual academy award party which has since become one of the highestprofile oscar parties in the hollywood film industry since its inception the foundation has raised over 200 million john who announced he was bisexual in 1976 and has been openly gay since 1988 entered into a civil partnership with david furnish on 21 december 2005 and after gay marriage became legal in england wed furnish on 21 december 2014 he continues to be a champion for lgbt social movements worldwide and samesex marriage\n"
     ]
    }
   ],
   "source": [
    "print elton['text'].values[0]"
   ]
  },
  {
   "cell_type": "code",
   "execution_count": 33,
   "metadata": {
    "collapsed": true
   },
   "outputs": [],
   "source": [
    "elton['word_count'] = count_vectorizer.fit_transform(elton['text'].values)"
   ]
  },
  {
   "cell_type": "code",
   "execution_count": 34,
   "metadata": {},
   "outputs": [
    {
     "name": "stdout",
     "output_type": "stream",
     "text": [
      "[u'10', u'100', u'1947', u'1967', u'19702000', u'1976', u'1980s', u'1988', u'1992', u'1994', u'1996', u'1997', u'1998', u'200', u'2002', u'2004', u'2005', u'2008', u'2012he', u'2013', u'2014', u'21', u'25', u'27', u'30', u'300', u'31', u'33', u'40', u'49', u'58', u'abbey', u'academy', u'actor', u'aids', u'albums', u'alltime', u'announced', u'annual', u'artist', u'artists', u'authors', u'award', u'awards', u'began', u'bernie', u'bestselling', u'billboard', u'bisexual', u'born', u'brit', u'british', u'brits', u'buckingham', u'career', u'cbe', u'center', u'champion', u'charitable', u'civil', u'collaborated', u'commander', u'composer', u'composers', u'concert', u'consecutive', u'continues', u'contribution', u'copies', u'culture', u'datein', u'david', u'december', u'diamond', u'diana', u'disney', u'dwight', u'elizabeth', u'elton', u'empire', u'england', u'english', u'entered', u'era', u'established', u'events', u'fame', u'fellow', u'fight', u'film', u'fivedecade', u'foundation', u'funeral', u'furnish', u'gay', u'globe', u'golden', u'grammy', u'hall', u'having', u'heavily', u'hercules', u'highestprofile', u'hits', u'hollywood', u'honors', u'hosting', u'hot', u'icon', u'ii', u'impact', u'inception', u'including', u'inducted', u'inductee', u'industry', u'influential', u'involved', u'john', u'jubilee', u'kennedy', u'kenneth', u'knighthood', u'lasting', u'late', u'later', u'legal', u'legend', u'lgbt', u'list', u'look', u'lyricist', u'making', u'male', u'march', u'marriage', u'million', u'movements', u'music', u'musicians', u'named', u'number', u'occasional', u'openly', u'order', u'oscar', u'outside', u'outstanding', u'overallelton', u'palace', u'parties', u'partner', u'partnership', u'party', u'performed', u'pianist', u'princess', u'producer', u'queens', u'raised', u'ranked', u'received', u'record', u'records', u'reginald', u'rock', u'roll', u'rolling', u'royal', u'samesex', u'services', u'seven', u'singer', u'single', u'singles', u'sir', u'social', u'sold', u'solo', u'song', u'songwriter', u'songwriters', u'stone', u'successful', u'taupin', u'time', u'tonightcandle', u'tony', u'way', u'wed', u'westminster', u'wind', u'winning', u'worked', u'world', u'worldwide', u'year', u'years']\n"
     ]
    }
   ],
   "source": [
    "print count_vectorizer.get_feature_names()"
   ]
  },
  {
   "cell_type": "code",
   "execution_count": 35,
   "metadata": {},
   "outputs": [
    {
     "name": "stdout",
     "output_type": "stream",
     "text": [
      "[(u'john', 7), (u'award', 5), (u'billboard', 4), (u'elton', 3), (u'million', 3), (u'awards', 3), (u'100', 3), (u'british', 3), (u'music', 3), (u'academy', 3)]\n"
     ]
    }
   ],
   "source": [
    "vocab  = list(count_vectorizer.get_feature_names())\n",
    "counts = elton['word_count'].values.sum(axis=0).toarray()[0]\n",
    "\n",
    "freq_distribution = Counter(dict(zip(vocab, counts)))\n",
    "print (freq_distribution.most_common(10))\n",
    "#WORD COUNTS\n",
    "#john = 7\n",
    "#award = 5\n",
    "#billboard = 4"
   ]
  },
  {
   "cell_type": "code",
   "execution_count": 36,
   "metadata": {},
   "outputs": [
    {
     "data": {
      "text/plain": [
       "<1x548115 sparse matrix of type '<type 'numpy.float64'>'\n",
       "\twith 198 stored elements in Compressed Sparse Row format>"
      ]
     },
     "execution_count": 36,
     "metadata": {},
     "output_type": "execute_result"
    }
   ],
   "source": [
    "elton['tfidf'].values[0]"
   ]
  },
  {
   "cell_type": "code",
   "execution_count": 37,
   "metadata": {},
   "outputs": [
    {
     "name": "stdout",
     "output_type": "stream",
     "text": [
      "[(u'billboard', 0.220815373479789), (u'john', 0.21708234783751851), (u'elton', 0.21217449599445887), (u'furnish', 0.20819360547352062), (u'songwriters', 0.13727795403933182), (u'award', 0.13644562687929401), (u'aids', 0.12707713850247651), (u'million', 0.12495534247002375), (u'100', 0.12360741560195804), (u'palace', 0.12242653494397877)]\n"
     ]
    }
   ],
   "source": [
    "vocab = tfidf_vectorizer.get_feature_names()\n",
    "\n",
    "response = elton['tfidf'].values[0]\n",
    "l = [(vocab[col], response[0, col]) for col in response.nonzero()[1]]\n",
    "l = sorted(l, key=itemgetter(1),reverse=True)\n",
    "print l[:10]\n",
    "#TF-IDF\n",
    "#billboard > johm > elton"
   ]
  },
  {
   "cell_type": "markdown",
   "metadata": {},
   "source": [
    "### Answer 2"
   ]
  },
  {
   "cell_type": "code",
   "execution_count": 38,
   "metadata": {
    "collapsed": true
   },
   "outputs": [],
   "source": [
    "victoria = people[people.index == 'Victoria Beckham'].copy()"
   ]
  },
  {
   "cell_type": "code",
   "execution_count": 39,
   "metadata": {
    "collapsed": true
   },
   "outputs": [],
   "source": [
    "paul = people[people.index == 'Paul McCartney'].copy()"
   ]
  },
  {
   "cell_type": "code",
   "execution_count": 40,
   "metadata": {},
   "outputs": [
    {
     "data": {
      "text/plain": [
       "array([[ 0.03407023]])"
      ]
     },
     "execution_count": 40,
     "metadata": {},
     "output_type": "execute_result"
    }
   ],
   "source": [
    "cosine_similarity(elton['tfidf'].values[0], victoria['tfidf'].values[0])"
   ]
  },
  {
   "cell_type": "code",
   "execution_count": 41,
   "metadata": {},
   "outputs": [
    {
     "data": {
      "text/plain": [
       "array([[ 0.18991373]])"
      ]
     },
     "execution_count": 41,
     "metadata": {},
     "output_type": "execute_result"
    }
   ],
   "source": [
    "cosine_similarity(elton['tfidf'].values[0], paul['tfidf'].values[0])"
   ]
  },
  {
   "cell_type": "markdown",
   "metadata": {},
   "source": [
    "Elton John está mais próximo de Paul McCartney pois ambos faziam parte do mesmo grupo."
   ]
  },
  {
   "cell_type": "markdown",
   "metadata": {},
   "source": [
    "### Answer 3"
   ]
  },
  {
   "cell_type": "markdown",
   "metadata": {},
   "source": [
    "##### Modelo com TF-IDF\n",
    "\n",
    "\n",
    "\n"
   ]
  },
  {
   "cell_type": "code",
   "execution_count": 42,
   "metadata": {
    "collapsed": true
   },
   "outputs": [],
   "source": [
    "tfidf_matrix = tfidf_vectorizer.fit_transform(people['text'])\n",
    "nbrs         = NearestNeighbors(n_neighbors=10).fit(tfidf_matrix)"
   ]
  },
  {
   "cell_type": "code",
   "execution_count": 43,
   "metadata": {},
   "outputs": [
    {
     "data": {
      "text/plain": [
       "<59071x548115 sparse matrix of type '<type 'numpy.float64'>'\n",
       "\twith 8078359 stored elements in Compressed Sparse Row format>"
      ]
     },
     "execution_count": 43,
     "metadata": {},
     "output_type": "execute_result"
    }
   ],
   "source": [
    "tfidf_matrix"
   ]
  },
  {
   "cell_type": "code",
   "execution_count": 44,
   "metadata": {
    "collapsed": true
   },
   "outputs": [],
   "source": [
    "def get_closest_neighbors(name):\n",
    "    row                = people.index.get_loc(name)\n",
    "    distances, indices = nbrs.kneighbors(tfidf_matrix.getrow(row))\n",
    "    names_similar      = pd.Series(indices.flatten()).map(people.reset_index()['name'])\n",
    "    result             = pd.DataFrame({'distance':distances.flatten(), 'name':names_similar})\n",
    "    return result"
   ]
  },
  {
   "cell_type": "markdown",
   "metadata": {},
   "source": [
    "##### Modelo com Word Count\n",
    "\n",
    "\n",
    "\n"
   ]
  },
  {
   "cell_type": "code",
   "execution_count": 45,
   "metadata": {
    "collapsed": true
   },
   "outputs": [],
   "source": [
    "count_vectorizer    = CountVectorizer()\n",
    "wc_matrix = count_vectorizer.fit_transform(people['text'])"
   ]
  },
  {
   "cell_type": "code",
   "execution_count": 46,
   "metadata": {},
   "outputs": [
    {
     "data": {
      "text/plain": [
       "<59071x548429 sparse matrix of type '<type 'numpy.int64'>'\n",
       "\twith 10244028 stored elements in Compressed Sparse Row format>"
      ]
     },
     "execution_count": 46,
     "metadata": {},
     "output_type": "execute_result"
    }
   ],
   "source": [
    "wc_matrix"
   ]
  },
  {
   "cell_type": "code",
   "execution_count": 47,
   "metadata": {
    "collapsed": true
   },
   "outputs": [],
   "source": [
    "nbrs_wc = NearestNeighbors(n_neighbors=10).fit(wc_matrix)"
   ]
  },
  {
   "cell_type": "code",
   "execution_count": 48,
   "metadata": {
    "collapsed": true
   },
   "outputs": [],
   "source": [
    "def get_closest_neighbors_wc(name):\n",
    "    row                = people.index.get_loc(name)\n",
    "    distances, indices = nbrs_wc.kneighbors(wc_matrix.getrow(row))\n",
    "    names_similar      = pd.Series(indices.flatten()).map(people.reset_index()['name'])\n",
    "    result             = pd.DataFrame({'distance':distances.flatten(), 'name':names_similar})\n",
    "    return result"
   ]
  },
  {
   "cell_type": "markdown",
   "metadata": {},
   "source": [
    "##### Usando o modelo com TF-IDF\n",
    "\n",
    "\n",
    "\n"
   ]
  },
  {
   "cell_type": "code",
   "execution_count": 49,
   "metadata": {},
   "outputs": [
    {
     "data": {
      "text/html": [
       "<div>\n",
       "<style>\n",
       "    .dataframe thead tr:only-child th {\n",
       "        text-align: right;\n",
       "    }\n",
       "\n",
       "    .dataframe thead th {\n",
       "        text-align: left;\n",
       "    }\n",
       "\n",
       "    .dataframe tbody tr th {\n",
       "        vertical-align: top;\n",
       "    }\n",
       "</style>\n",
       "<table border=\"1\" class=\"dataframe\">\n",
       "  <thead>\n",
       "    <tr style=\"text-align: right;\">\n",
       "      <th></th>\n",
       "      <th>distance</th>\n",
       "      <th>name</th>\n",
       "    </tr>\n",
       "  </thead>\n",
       "  <tbody>\n",
       "    <tr>\n",
       "      <th>0</th>\n",
       "      <td>0.000000</td>\n",
       "      <td>Elton John</td>\n",
       "    </tr>\n",
       "    <tr>\n",
       "      <th>1</th>\n",
       "      <td>1.186742</td>\n",
       "      <td>Rod Stewart</td>\n",
       "    </tr>\n",
       "    <tr>\n",
       "      <th>2</th>\n",
       "      <td>1.196510</td>\n",
       "      <td>Sting (musician)</td>\n",
       "    </tr>\n",
       "    <tr>\n",
       "      <th>3</th>\n",
       "      <td>1.203888</td>\n",
       "      <td>George Michael</td>\n",
       "    </tr>\n",
       "    <tr>\n",
       "      <th>4</th>\n",
       "      <td>1.204019</td>\n",
       "      <td>Phil Collins</td>\n",
       "    </tr>\n",
       "    <tr>\n",
       "      <th>5</th>\n",
       "      <td>1.218337</td>\n",
       "      <td>Kelly Clarkson</td>\n",
       "    </tr>\n",
       "    <tr>\n",
       "      <th>6</th>\n",
       "      <td>1.221504</td>\n",
       "      <td>Usher (entertainer)</td>\n",
       "    </tr>\n",
       "    <tr>\n",
       "      <th>7</th>\n",
       "      <td>1.223884</td>\n",
       "      <td>Adele</td>\n",
       "    </tr>\n",
       "    <tr>\n",
       "      <th>8</th>\n",
       "      <td>1.229677</td>\n",
       "      <td>Rihanna</td>\n",
       "    </tr>\n",
       "    <tr>\n",
       "      <th>9</th>\n",
       "      <td>1.232415</td>\n",
       "      <td>Bryan Adams</td>\n",
       "    </tr>\n",
       "  </tbody>\n",
       "</table>\n",
       "</div>"
      ],
      "text/plain": [
       "   distance                 name\n",
       "0  0.000000           Elton John\n",
       "1  1.186742          Rod Stewart\n",
       "2  1.196510     Sting (musician)\n",
       "3  1.203888       George Michael\n",
       "4  1.204019         Phil Collins\n",
       "5  1.218337       Kelly Clarkson\n",
       "6  1.221504  Usher (entertainer)\n",
       "7  1.223884                Adele\n",
       "8  1.229677              Rihanna\n",
       "9  1.232415          Bryan Adams"
      ]
     },
     "execution_count": 49,
     "metadata": {},
     "output_type": "execute_result"
    }
   ],
   "source": [
    "get_closest_neighbors('Elton John')"
   ]
  },
  {
   "cell_type": "code",
   "execution_count": 50,
   "metadata": {},
   "outputs": [
    {
     "data": {
      "text/html": [
       "<div>\n",
       "<style>\n",
       "    .dataframe thead tr:only-child th {\n",
       "        text-align: right;\n",
       "    }\n",
       "\n",
       "    .dataframe thead th {\n",
       "        text-align: left;\n",
       "    }\n",
       "\n",
       "    .dataframe tbody tr th {\n",
       "        vertical-align: top;\n",
       "    }\n",
       "</style>\n",
       "<table border=\"1\" class=\"dataframe\">\n",
       "  <thead>\n",
       "    <tr style=\"text-align: right;\">\n",
       "      <th></th>\n",
       "      <th>distance</th>\n",
       "      <th>name</th>\n",
       "    </tr>\n",
       "  </thead>\n",
       "  <tbody>\n",
       "    <tr>\n",
       "      <th>0</th>\n",
       "      <td>0.000000</td>\n",
       "      <td>Victoria Beckham</td>\n",
       "    </tr>\n",
       "    <tr>\n",
       "      <th>1</th>\n",
       "      <td>1.072772</td>\n",
       "      <td>David Beckham</td>\n",
       "    </tr>\n",
       "    <tr>\n",
       "      <th>2</th>\n",
       "      <td>1.264277</td>\n",
       "      <td>Stephen Dow Beckham</td>\n",
       "    </tr>\n",
       "    <tr>\n",
       "      <th>3</th>\n",
       "      <td>1.274599</td>\n",
       "      <td>Caroline Rush</td>\n",
       "    </tr>\n",
       "    <tr>\n",
       "      <th>4</th>\n",
       "      <td>1.276112</td>\n",
       "      <td>Angelique Westerhof</td>\n",
       "    </tr>\n",
       "    <tr>\n",
       "      <th>5</th>\n",
       "      <td>1.280018</td>\n",
       "      <td>Wal%C3%A9 Adeyemi</td>\n",
       "    </tr>\n",
       "    <tr>\n",
       "      <th>6</th>\n",
       "      <td>1.280657</td>\n",
       "      <td>Colin McDowell</td>\n",
       "    </tr>\n",
       "    <tr>\n",
       "      <th>7</th>\n",
       "      <td>1.280896</td>\n",
       "      <td>Zurain Imam</td>\n",
       "    </tr>\n",
       "    <tr>\n",
       "      <th>8</th>\n",
       "      <td>1.281365</td>\n",
       "      <td>Mel B</td>\n",
       "    </tr>\n",
       "    <tr>\n",
       "      <th>9</th>\n",
       "      <td>1.281901</td>\n",
       "      <td>Yuliya Polishchuk</td>\n",
       "    </tr>\n",
       "  </tbody>\n",
       "</table>\n",
       "</div>"
      ],
      "text/plain": [
       "   distance                 name\n",
       "0  0.000000     Victoria Beckham\n",
       "1  1.072772        David Beckham\n",
       "2  1.264277  Stephen Dow Beckham\n",
       "3  1.274599        Caroline Rush\n",
       "4  1.276112  Angelique Westerhof\n",
       "5  1.280018    Wal%C3%A9 Adeyemi\n",
       "6  1.280657       Colin McDowell\n",
       "7  1.280896          Zurain Imam\n",
       "8  1.281365                Mel B\n",
       "9  1.281901    Yuliya Polishchuk"
      ]
     },
     "execution_count": 50,
     "metadata": {},
     "output_type": "execute_result"
    }
   ],
   "source": [
    "get_closest_neighbors('Victoria Beckham')"
   ]
  },
  {
   "cell_type": "markdown",
   "metadata": {},
   "source": [
    "##### Usando o modelo com Word Count\n",
    "\n",
    "\n",
    "\n"
   ]
  },
  {
   "cell_type": "code",
   "execution_count": 51,
   "metadata": {},
   "outputs": [
    {
     "data": {
      "text/html": [
       "<div>\n",
       "<style>\n",
       "    .dataframe thead tr:only-child th {\n",
       "        text-align: right;\n",
       "    }\n",
       "\n",
       "    .dataframe thead th {\n",
       "        text-align: left;\n",
       "    }\n",
       "\n",
       "    .dataframe tbody tr th {\n",
       "        vertical-align: top;\n",
       "    }\n",
       "</style>\n",
       "<table border=\"1\" class=\"dataframe\">\n",
       "  <thead>\n",
       "    <tr style=\"text-align: right;\">\n",
       "      <th></th>\n",
       "      <th>distance</th>\n",
       "      <th>name</th>\n",
       "    </tr>\n",
       "  </thead>\n",
       "  <tbody>\n",
       "    <tr>\n",
       "      <th>0</th>\n",
       "      <td>0.000000</td>\n",
       "      <td>Elton John</td>\n",
       "    </tr>\n",
       "    <tr>\n",
       "      <th>1</th>\n",
       "      <td>27.748874</td>\n",
       "      <td>Roger Daltrey</td>\n",
       "    </tr>\n",
       "    <tr>\n",
       "      <th>2</th>\n",
       "      <td>27.928480</td>\n",
       "      <td>Rod Stewart</td>\n",
       "    </tr>\n",
       "    <tr>\n",
       "      <th>3</th>\n",
       "      <td>28.913665</td>\n",
       "      <td>John Ronane</td>\n",
       "    </tr>\n",
       "    <tr>\n",
       "      <th>4</th>\n",
       "      <td>29.223278</td>\n",
       "      <td>Matthew Kalman</td>\n",
       "    </tr>\n",
       "    <tr>\n",
       "      <th>5</th>\n",
       "      <td>29.223278</td>\n",
       "      <td>Brad Fiedel</td>\n",
       "    </tr>\n",
       "    <tr>\n",
       "      <th>6</th>\n",
       "      <td>29.274562</td>\n",
       "      <td>Robert E. Lerner</td>\n",
       "    </tr>\n",
       "    <tr>\n",
       "      <th>7</th>\n",
       "      <td>29.274562</td>\n",
       "      <td>Robbie Williams</td>\n",
       "    </tr>\n",
       "    <tr>\n",
       "      <th>8</th>\n",
       "      <td>29.291637</td>\n",
       "      <td>Michael White (author)</td>\n",
       "    </tr>\n",
       "    <tr>\n",
       "      <th>9</th>\n",
       "      <td>29.444864</td>\n",
       "      <td>Alex Scott (actor)</td>\n",
       "    </tr>\n",
       "  </tbody>\n",
       "</table>\n",
       "</div>"
      ],
      "text/plain": [
       "    distance                    name\n",
       "0   0.000000              Elton John\n",
       "1  27.748874           Roger Daltrey\n",
       "2  27.928480             Rod Stewart\n",
       "3  28.913665             John Ronane\n",
       "4  29.223278          Matthew Kalman\n",
       "5  29.223278             Brad Fiedel\n",
       "6  29.274562        Robert E. Lerner\n",
       "7  29.274562         Robbie Williams\n",
       "8  29.291637  Michael White (author)\n",
       "9  29.444864      Alex Scott (actor)"
      ]
     },
     "execution_count": 51,
     "metadata": {},
     "output_type": "execute_result"
    }
   ],
   "source": [
    "get_closest_neighbors_wc('Elton John')"
   ]
  },
  {
   "cell_type": "code",
   "execution_count": 52,
   "metadata": {},
   "outputs": [
    {
     "data": {
      "text/html": [
       "<div>\n",
       "<style>\n",
       "    .dataframe thead tr:only-child th {\n",
       "        text-align: right;\n",
       "    }\n",
       "\n",
       "    .dataframe thead th {\n",
       "        text-align: left;\n",
       "    }\n",
       "\n",
       "    .dataframe tbody tr th {\n",
       "        vertical-align: top;\n",
       "    }\n",
       "</style>\n",
       "<table border=\"1\" class=\"dataframe\">\n",
       "  <thead>\n",
       "    <tr style=\"text-align: right;\">\n",
       "      <th></th>\n",
       "      <th>distance</th>\n",
       "      <th>name</th>\n",
       "    </tr>\n",
       "  </thead>\n",
       "  <tbody>\n",
       "    <tr>\n",
       "      <th>0</th>\n",
       "      <td>0.000000</td>\n",
       "      <td>Victoria Beckham</td>\n",
       "    </tr>\n",
       "    <tr>\n",
       "      <th>1</th>\n",
       "      <td>22.538855</td>\n",
       "      <td>Kelly Bell</td>\n",
       "    </tr>\n",
       "    <tr>\n",
       "      <th>2</th>\n",
       "      <td>23.366643</td>\n",
       "      <td>Rhian Samuel</td>\n",
       "    </tr>\n",
       "    <tr>\n",
       "      <th>3</th>\n",
       "      <td>23.366643</td>\n",
       "      <td>Rikke Karlsson</td>\n",
       "    </tr>\n",
       "    <tr>\n",
       "      <th>4</th>\n",
       "      <td>23.388031</td>\n",
       "      <td>Marie Brassard</td>\n",
       "    </tr>\n",
       "    <tr>\n",
       "      <th>5</th>\n",
       "      <td>23.494680</td>\n",
       "      <td>Renee Nele</td>\n",
       "    </tr>\n",
       "    <tr>\n",
       "      <th>6</th>\n",
       "      <td>23.494680</td>\n",
       "      <td>Hilary Alexander</td>\n",
       "    </tr>\n",
       "    <tr>\n",
       "      <th>7</th>\n",
       "      <td>23.515952</td>\n",
       "      <td>Yeojin Bae</td>\n",
       "    </tr>\n",
       "    <tr>\n",
       "      <th>8</th>\n",
       "      <td>23.515952</td>\n",
       "      <td>Ali Hewson</td>\n",
       "    </tr>\n",
       "    <tr>\n",
       "      <th>9</th>\n",
       "      <td>23.579652</td>\n",
       "      <td>Gillian Mann</td>\n",
       "    </tr>\n",
       "  </tbody>\n",
       "</table>\n",
       "</div>"
      ],
      "text/plain": [
       "    distance              name\n",
       "0   0.000000  Victoria Beckham\n",
       "1  22.538855        Kelly Bell\n",
       "2  23.366643      Rhian Samuel\n",
       "3  23.366643    Rikke Karlsson\n",
       "4  23.388031    Marie Brassard\n",
       "5  23.494680        Renee Nele\n",
       "6  23.494680  Hilary Alexander\n",
       "7  23.515952        Yeojin Bae\n",
       "8  23.515952        Ali Hewson\n",
       "9  23.579652      Gillian Mann"
      ]
     },
     "execution_count": 52,
     "metadata": {},
     "output_type": "execute_result"
    }
   ],
   "source": [
    "get_closest_neighbors_wc('Victoria Beckham')"
   ]
  }
 ],
 "metadata": {
  "kernelspec": {
   "display_name": "Python 2",
   "language": "python",
   "name": "python2"
  },
  "language_info": {
   "codemirror_mode": {
    "name": "ipython",
    "version": 2
   },
   "file_extension": ".py",
   "mimetype": "text/x-python",
   "name": "python",
   "nbconvert_exporter": "python",
   "pygments_lexer": "ipython2",
   "version": "2.7.13"
  }
 },
 "nbformat": 4,
 "nbformat_minor": 1
}
